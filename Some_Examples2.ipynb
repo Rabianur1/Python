{
 "cells": [
  {
   "cell_type": "code",
   "execution_count": 1,
   "id": "1e86cbf9-96b0-4ff8-b6f7-53773553d340",
   "metadata": {},
   "outputs": [
    {
     "name": "stdout",
     "output_type": "stream",
     "text": [
      "Harry Potter kitap isimleri:\n",
      "Harry Potter ve Felsefe Taşı\n",
      "Harry Potter\n",
      "Harry Potter\n",
      "The Ultimate Harry Potter and Philosophy\n",
      "The Harry Potter Generation\n",
      "Harry Potter and the Other\n",
      "Inside the World of Harry Potter\n",
      "The Ivory Tower and Harry Potter\n",
      "Critical Perspectives on Harry Potter\n",
      "Harry Potter Places Book Four--NEWTs\n"
     ]
    }
   ],
   "source": [
    "# Google books API'ına GET atarak Harry Potter kitap isimlerini alma\n",
    "import requests\n",
    "\n",
    "def get_harry_potter_books():\n",
    "    url = \"https://www.googleapis.com/books/v1/volumes?q=Harry+Potter\"\n",
    "    response = requests.get(url)\n",
    "\n",
    "    if response.status_code == 200:\n",
    "        books = response.json()\n",
    "        book_names = []\n",
    "\n",
    "        for item in books.get(\"items\", []):\n",
    "            title = item.get(\"volumeInfo\", {}).get(\"title\")\n",
    "            if title:\n",
    "                book_names.append(title)\n",
    "\n",
    "        print(\"Harry Potter kitap isimleri:\")\n",
    "        for title in book_names:\n",
    "            print(title)\n",
    "    else:\n",
    "        print(f'Error: API request failed with status code {response.status_code}')\n",
    "\n",
    "get_harry_potter_books()"
   ]
  },
  {
   "cell_type": "code",
   "execution_count": null,
   "id": "04b0b866-5af8-4be4-8b2f-6f985826f568",
   "metadata": {},
   "outputs": [
    {
     "name": "stdout",
     "output_type": "stream",
     "text": [
      "\n",
      "Şehir adı giriniz(çıkmak için 'q'):  ankara\n"
     ]
    },
    {
     "name": "stdout",
     "output_type": "stream",
     "text": [
      "200\n",
      "{'coord': {'lon': 32.8543, 'lat': 39.9199}, 'weather': [{'id': 803, 'main': 'Clouds', 'description': 'parçalı bulutlu', 'icon': '04n'}], 'base': 'stations', 'main': {'temp': 19, 'feels_like': 18.78, 'temp_min': 17.51, 'temp_max': 19, 'pressure': 1014, 'humidity': 70, 'sea_level': 1014, 'grnd_level': 893}, 'visibility': 10000, 'wind': {'speed': 0.89, 'deg': 288, 'gust': 3.13}, 'clouds': {'all': 80}, 'dt': 1757192962, 'sys': {'type': 2, 'id': 267643, 'country': 'TR', 'sunrise': 1757215328, 'sunset': 1757261490}, 'timezone': 10800, 'id': 323786, 'name': 'Ankara', 'cod': 200}\n",
      "\n",
      "ankara Hava Durumu\n",
      "Sıcaklık: 19°C\n",
      "Nem: 70%\n",
      "Rüzgar hızı: 0.89 m/s\n",
      "Durum: parçalı bulutlu\n"
     ]
    },
    {
     "name": "stdout",
     "output_type": "stream",
     "text": [
      "\n",
      "Şehir adı giriniz(çıkmak için 'q'):  q\n"
     ]
    }
   ],
   "source": [
    "# API ile Hava Durumu bilgisi alma\n",
    "import requests\n",
    "\n",
    "API_KEY=\"51d78d3f7e1925d8cdae813f7b9476f7\"\n",
    "\n",
    "def get_weather(city):\n",
    "    url = f\"http://api.openweathermap.org/data/2.5/weather?q={city}&appid={API_KEY}&units=metric&lang=tr\"\n",
    "    response=requests.get(url)\n",
    "    print(response.status_code)\n",
    "    print(response.json())\n",
    "\n",
    "\n",
    "    if response.status_code == 200:\n",
    "        data = response.json()\n",
    "        print(f\"\\n{city} Hava Durumu\")\n",
    "        print(f\"Sıcaklık: {data['main']['temp']}°C\")\n",
    "        print(f\"Nem: {data['main']['humidity']}%\")\n",
    "        print(f\"Rüzgar hızı: {data['wind']['speed']} m/s\")\n",
    "        print(f\"Durum: {data['weather'][0]['description']}\")\n",
    "    else:\n",
    "        print(\"Şehir bulunamadı veya API hatası.\")\n",
    "\n",
    "while True:\n",
    "    city=input(\"\\nŞehir adı giriniz(çıkmak için 'q'): \")\n",
    "    if city.lower()=='q':\n",
    "        break\n",
    "    get_weather(city)"
   ]
  },
  {
   "cell_type": "code",
   "execution_count": null,
   "id": "4e792336-9fe4-44fd-becb-9599f08f91f0",
   "metadata": {},
   "outputs": [],
   "source": [
    "# Resimdeki Kırmızı Alan Tespiti\n",
    "import cv2\n",
    "import numpy as np\n",
    "\n",
    "image = cv2.imread(\"resim.jpg\")\n",
    "\n",
    "lower_kirmizi = np.array([0, 0, 100])\n",
    "upper_kirmizi = np.array([50, 50, 255])\n",
    "mask = cv2.inRange(image, lower_kirmizi, upper_kirmizi)\n",
    "\n",
    "kirmizi_alan = cv2.bitwise_and(image, image, mask=mask)\n",
    "\n",
    "cv2.imshow(\"Orijinal:\", image)\n",
    "cv2.imshow(\"Tespit edilen hedef:\", kirmizi_alan)\n",
    "cv2.waitKey(0)\n",
    "cv2.destroyAllWindows()"
   ]
  },
  {
   "cell_type": "code",
   "execution_count": null,
   "id": "f9ce898b-a56e-48d5-ab6a-10c6fd70e625",
   "metadata": {},
   "outputs": [],
   "source": [
    "# Kameradaki Kırmızı Alan Tespiti\n",
    "import cv2\n",
    "import numpy as np\n",
    "\n",
    "kamera=cv2.VideoCapture(0)\n",
    "while True:\n",
    "    ret,goruntu=kamera.read()\n",
    "  \n",
    "    lower_kirmizi= np.array([0, 0, 100]) \n",
    "    upper_kirmizi= np.array([50, 50, 255]) \n",
    "    mask= cv2.inRange(goruntu, lower_kirmizi, upper_kirmizi)\n",
    "\n",
    "    kirmizi_alan= cv2.bitwise_and(goruntu, goruntu, mask=mask)\n",
    "\n",
    "    cv2.imshow(\"BGR goruntusu:\", goruntu)\n",
    "    cv2.imshow(\"Tespit edilen hedef:\", kirmizi_alan)\n",
    "\n",
    "    if cv2.waitKey(25) &0xFF==ord(\"q\"):\n",
    "        break\n",
    "kamera.release()\n",
    "cv2.destroyAllWindows"
   ]
  }
 ],
 "metadata": {
  "kernelspec": {
   "display_name": "Python [conda env:base] *",
   "language": "python",
   "name": "conda-base-py"
  },
  "language_info": {
   "codemirror_mode": {
    "name": "ipython",
    "version": 3
   },
   "file_extension": ".py",
   "mimetype": "text/x-python",
   "name": "python",
   "nbconvert_exporter": "python",
   "pygments_lexer": "ipython3",
   "version": "3.12.7"
  }
 },
 "nbformat": 4,
 "nbformat_minor": 5
}
