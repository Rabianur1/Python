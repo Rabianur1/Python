{
 "cells": [
  {
   "cell_type": "code",
   "execution_count": 1,
   "id": "f5c9c570-8a37-4a59-8008-b73e2567b117",
   "metadata": {},
   "outputs": [
    {
     "name": "stdout",
     "output_type": "stream",
     "text": [
      "Yeni liste: ['elma', 'muz', 'çilek', 'portakal', 'kiraz']\n"
     ]
    },
    {
     "name": "stdout",
     "output_type": "stream",
     "text": [
      "Bir meyve giriniz:  armut\n"
     ]
    },
    {
     "name": "stdout",
     "output_type": "stream",
     "text": [
      "Yeni liste:  ['elma', 'muz', 'çilek', 'portakal', 'kiraz', 'armut']\n"
     ]
    }
   ],
   "source": [
    "#1\n",
    "meyveler = [\"elma\", \"muz\", \"çilek\", \"portakal\"] \n",
    "meyveler.append(\"kiraz\") #append ile parantez içerisine yazdığımız kiraz'ı meyveler listesine ekliyoruz.\n",
    "print(\"Yeni liste:\", meyveler)\n",
    "meyve2=input(\"Bir meyve giriniz: \") #meyve2 değişkeni ile yeni bir eleman alıyoruz.\n",
    "meyveler.append(meyve2)\n",
    "print(\"Yeni liste: \", meyveler)"
   ]
  },
  {
   "cell_type": "code",
   "execution_count": 3,
   "id": "7e3b300e-6896-4ac8-8d84-8f8a3f586667",
   "metadata": {},
   "outputs": [
    {
     "name": "stdout",
     "output_type": "stream",
     "text": [
      "Yeni liste:  [10, 20, 30, 40, 50]\n"
     ]
    },
    {
     "name": "stdout",
     "output_type": "stream",
     "text": [
      "Bir sayı giriniz:  60\n",
      "Bir indeks giriniz:  4\n"
     ]
    },
    {
     "name": "stdout",
     "output_type": "stream",
     "text": [
      "Yeni liste:  [10, 20, 30, 40, 60, 50]\n"
     ]
    }
   ],
   "source": [
    "#2\n",
    "sayilar = [10, 20, 30, 50] \n",
    "sayilar.insert(3, 40) #insert ile 3.indekse 40 ekliyoruz.\n",
    "print(\"Yeni liste: \", sayilar)\n",
    "sayi=int(input(\"Bir sayı giriniz: \"))\n",
    "indeks=int(input(\"Bir indeks giriniz: \"))\n",
    "sayilar.insert(indeks,sayi) #Aldığımız sayıyı önce indeks numarası sonra sayı olacak şekilde insert ile listeye ekliyoruz.\n",
    "print(\"Yeni liste: \", sayilar)"
   ]
  },
  {
   "cell_type": "code",
   "execution_count": 5,
   "id": "5d0456fb-d3f3-4b3f-845f-e840677ca8e3",
   "metadata": {},
   "outputs": [
    {
     "name": "stdout",
     "output_type": "stream",
     "text": [
      "Yeni liste:  ['Ali', 'Mehmet', 'Zeynep', 'Ayşe']\n"
     ]
    },
    {
     "name": "stdout",
     "output_type": "stream",
     "text": [
      "Silinecek ismi giriniz:  Ayşe\n"
     ]
    },
    {
     "name": "stdout",
     "output_type": "stream",
     "text": [
      "Yeni liste:  ['Ali', 'Mehmet', 'Zeynep']\n"
     ]
    }
   ],
   "source": [
    "#3\n",
    "isimler = [\"Ali\", \"Ayşe\", \"Mehmet\", \"Zeynep\", \"Ayşe\"] \n",
    "isimler.remove(\"Ayşe\") #remove ile parantez içerisine yazılan elemanı listeden kaldırıyoruz.\n",
    "print(\"Yeni liste: \", isimler)\n",
    "isim=str(input(\"Silinecek ismi giriniz: \")) #Silinecek ismi, isim string olduğundan str(input( ile kullanıcıdan alıyoruz.\n",
    "if isim in isimler: #EĞER kullanıcının girdiği isim listede varsa remove ile istenmiş olan ismi siliyouz.Bunun için if-else yapısını kullanıyoruz.\n",
    "    isimler.remove(isim)\n",
    "    print(\"Yeni liste: \", isimler)\n",
    "else:\n",
    "    print(\"Listede öyle bir isim yok.\")"
   ]
  },
  {
   "cell_type": "code",
   "execution_count": 7,
   "id": "75e08431-a82f-4bd3-9bab-3127630a1470",
   "metadata": {},
   "outputs": [
    {
     "name": "stdout",
     "output_type": "stream",
     "text": [
      "Yeni liste:  [5, 10, 15, 20]\n"
     ]
    },
    {
     "name": "stdout",
     "output_type": "stream",
     "text": [
      "Bir indeks numarası giriniz:  3\n"
     ]
    },
    {
     "name": "stdout",
     "output_type": "stream",
     "text": [
      "Yeni liste:  [5, 10, 15]\n"
     ]
    }
   ],
   "source": [
    "#4\n",
    "rakamlar = [5, 10, 15, 20, 25] \n",
    "rakamlar.pop(4) #Listenin son elemanının indeksi 4 olduğu için pop(4) yazarak o elemanı siliyoruz.\n",
    "print(\"Yeni liste: \", rakamlar)\n",
    "indeks=int(input(\"Bir indeks numarası giriniz: \"))\n",
    "rakamlar.pop(indeks)\n",
    "print(\"Yeni liste: \", rakamlar)"
   ]
  },
  {
   "cell_type": "code",
   "execution_count": 9,
   "id": "73edeebb-4f42-465f-ac21-bd58b4729b17",
   "metadata": {},
   "outputs": [
    {
     "name": "stdout",
     "output_type": "stream",
     "text": [
      "Ters liste:  ['e', 'd', 'c', 'b', 'a']\n"
     ]
    },
    {
     "name": "stdout",
     "output_type": "stream",
     "text": [
      "Yeni bir liste için elemanları giriniz:  istanbul\n"
     ]
    },
    {
     "name": "stdout",
     "output_type": "stream",
     "text": [
      "Ters çevrilmiş yeni liste:  ['l', 'u', 'b', 'n', 'a', 't', 's', 'i']\n"
     ]
    }
   ],
   "source": [
    "#5\n",
    "harfler = [\"a\", \"b\", \"c\", \"d\", \"e\"] \n",
    "harfler.reverse()\n",
    "print(\"Ters liste: \", harfler)\n",
    "yeni_liste=[] #Yeni bir liste oluşturuyoruz.\n",
    "elemanlar=input(\"Yeni bir liste için elemanları giriniz: \")\n",
    "yeni_liste.extend(elemanlar) #Kullanıcının girmiş olduğu elemanları extend ile yeni oluşturduğumuz listeye tek tek ekliyoruz.\n",
    "yeni_liste.reverse() #Yeni oluşan listeyi reserve ile ters çeviriyoruz.\n",
    "print(\"Ters çevrilmiş yeni liste: \", yeni_liste)"
   ]
  },
  {
   "cell_type": "code",
   "execution_count": 1,
   "id": "25affaab-d77e-477a-a09d-2247d9faccb6",
   "metadata": {},
   "outputs": [
    {
     "name": "stdout",
     "output_type": "stream",
     "text": [
      "[]\n"
     ]
    }
   ],
   "source": [
    "#6\n",
    "renkler = [\"kırmızı\", \"mavi\", \"yeşil\", \"sarı\"] \n",
    "renkler.clear()\n",
    "print(renkler)"
   ]
  },
  {
   "cell_type": "code",
   "execution_count": 3,
   "id": "aa362f69-b2d5-4144-bf04-298254fd97ce",
   "metadata": {},
   "outputs": [
    {
     "name": "stdout",
     "output_type": "stream",
     "text": [
      "Liste için elemanları giriniz(Araya boşluk bırakarak):  1 2 3 3 4 5 \n"
     ]
    },
    {
     "name": "stdout",
     "output_type": "stream",
     "text": [
      "3: 2 kez\n"
     ]
    }
   ],
   "source": [
    "#7:\n",
    "list=[]\n",
    "elemanlar=input(\"Liste için elemanları giriniz(Araya boşluk bırakarak): \").split()\n",
    "list.extend(elemanlar)\n",
    "tekrar={}\n",
    "for eleman in list:\n",
    "    if list.count(eleman)>1:\n",
    "        tekrar[eleman] = list.count(eleman)\n",
    "if tekrar:\n",
    "      for eleman,ayni in tekrar.items():\n",
    "        print(f\"{eleman}: {ayni} kez\")\n",
    "else:\n",
    "    print(\"Listede tekrar eden eleman yok.\")"
   ]
  },
  {
   "cell_type": "code",
   "execution_count": 5,
   "id": "e59effa5-7ace-44e1-b4ab-b5c740822b9e",
   "metadata": {},
   "outputs": [
    {
     "name": "stdout",
     "output_type": "stream",
     "text": [
      "Liste için elemanları giriniz(Araya boşluk bırakarak):  20 22 38 11\n"
     ]
    },
    {
     "name": "stdout",
     "output_type": "stream",
     "text": [
      "Listedeki en büyük ikinci sayı: 22\n"
     ]
    }
   ],
   "source": [
    "#8:\n",
    "list=[]\n",
    "elemanlar=input(\"Liste için elemanları giriniz(Araya boşluk bırakarak): \").split()\n",
    "list.extend(elemanlar)\n",
    "if len(list)>1:\n",
    "    list.remove(max(list))  \n",
    "    ikinci_buyuk=max(list)\n",
    "    print(f\"Listedeki en büyük ikinci sayı: {ikinci_buyuk}\")\n",
    "else:\n",
    "    print(\"Listede en büyük ikinci sayı yok.\")"
   ]
  },
  {
   "cell_type": "code",
   "execution_count": 7,
   "id": "62b5c428-1028-4df0-940a-d978c8522607",
   "metadata": {},
   "outputs": [
    {
     "name": "stdout",
     "output_type": "stream",
     "text": [
      "Liste için elemanları giriniz (Araya boşluk bırakarak):  7 6 9 2 5\n"
     ]
    },
    {
     "name": "stdout",
     "output_type": "stream",
     "text": [
      "Küçükten büyüğe sıralanmış liste: ['2', '5', '6', '7', '9']\n",
      "Büyükten küçüğe sıralanmış liste: ['9', '7', '6', '5', '2']\n"
     ]
    }
   ],
   "source": [
    "#9:\n",
    "list=[]\n",
    "elemanlar=input(\"Liste için elemanları giriniz (Araya boşluk bırakarak): \").split()\n",
    "list.extend(elemanlar)\n",
    "kucukten_buyuge=sorted(list)\n",
    "print(f\"Küçükten büyüğe sıralanmış liste: {kucukten_buyuge}\")\n",
    "kucukten_buyuge.reverse()\n",
    "print(f\"Büyükten küçüğe sıralanmış liste: {kucukten_buyuge}\")"
   ]
  },
  {
   "cell_type": "code",
   "execution_count": 9,
   "id": "ab9bda75-5b5a-4be7-9323-4f200b7086e2",
   "metadata": {},
   "outputs": [
    {
     "name": "stdout",
     "output_type": "stream",
     "text": [
      "Liste için elemanları giriniz (Araya boşluk bırakarak):  2 3 4 5\n"
     ]
    },
    {
     "name": "stdout",
     "output_type": "stream",
     "text": [
      "2 ile çarpılmış yeni liste: [4, 6, 8, 10]\n"
     ]
    }
   ],
   "source": [
    "#10:\n",
    "list=[]\n",
    "elemanlar=input(\"Liste için elemanları giriniz (Araya boşluk bırakarak): \").split()\n",
    "list.extend(elemanlar)\n",
    "yeni_liste=[int(eleman)*2 for eleman in list]\n",
    "print(f\"2 ile çarpılmış yeni liste: {yeni_liste}\")"
   ]
  },
  {
   "cell_type": "code",
   "execution_count": 11,
   "id": "92a9f1b3-f763-499b-81cc-1122c10a94cd",
   "metadata": {},
   "outputs": [
    {
     "name": "stdout",
     "output_type": "stream",
     "text": [
      "Liste için elemanları giriniz (Araya boşluk bırakarak):  5 4 8 1 3\n"
     ]
    },
    {
     "name": "stdout",
     "output_type": "stream",
     "text": [
      "Karıştırılmış yeni liste: ['1', '8', '5', '4', '3']\n"
     ]
    }
   ],
   "source": [
    "#11:\n",
    "import random\n",
    "list=[]\n",
    "elemanlar=input(\"Liste için elemanları giriniz (Araya boşluk bırakarak): \").split()\n",
    "list.extend(elemanlar)\n",
    "random.shuffle(list)\n",
    "print(f\"Karıştırılmış yeni liste: {list}\")"
   ]
  }
 ],
 "metadata": {
  "kernelspec": {
   "display_name": "Python [conda env:base] *",
   "language": "python",
   "name": "conda-base-py"
  },
  "language_info": {
   "codemirror_mode": {
    "name": "ipython",
    "version": 3
   },
   "file_extension": ".py",
   "mimetype": "text/x-python",
   "name": "python",
   "nbconvert_exporter": "python",
   "pygments_lexer": "ipython3",
   "version": "3.12.7"
  }
 },
 "nbformat": 4,
 "nbformat_minor": 5
}
