{
 "cells": [
  {
   "cell_type": "code",
   "execution_count": 1,
   "id": "82363fde-7c4a-43f9-9cb1-fb1cbd1abfe1",
   "metadata": {},
   "outputs": [
    {
     "name": "stdin",
     "output_type": "stream",
     "text": [
      "Saat giriniz:  12\n",
      "Dakika giriniz:  30\n"
     ]
    },
    {
     "name": "stdout",
     "output_type": "stream",
     "text": [
      "Arada kalan küçük açı 165.0 derecedir.\n"
     ]
    }
   ],
   "source": [
    "# Akrep-Yelkovan (Saat-Dakika) arasındaki küçük açıyı hesaplama\n",
    "def kucuk_aci_hesaplama(saat, dakika):\n",
    "  try:\n",
    "    saat=int(saat)\n",
    "    dakika=int(dakika)\n",
    "    if saat < 0 or saat > 12 or dakika < 0 or dakika > 59:\n",
    "       print(\"Geçersiz saat veya dakika değeri girdiniz.\")\n",
    "       return\n",
    "    \n",
    "    saat_acisi=(saat%12)*30+(dakika/60)*30\n",
    "    dakika_acisi=dakika*6\n",
    "    aci=abs(saat_acisi - dakika_acisi)\n",
    "    kucuk_aci=min(aci, 360-aci)\n",
    "    return kucuk_aci\n",
    "\n",
    "  except ValueError:\n",
    "   print(\"Lütfen saat ve dakika değerlerini sayısal olarak giriniz.\")\n",
    "   return\n",
    "    \n",
    "saat=input(\"Saat giriniz: \")\n",
    "dakika=input(\"Dakika giriniz: \")\n",
    "aci=kucuk_aci_hesaplama(saat, dakika)\n",
    "if aci is not None:\n",
    " print(\"Arada kalan küçük açı\",aci,\"derecedir.\")"
   ]
  },
  {
   "cell_type": "code",
   "execution_count": 3,
   "id": "00ae0274-8414-4dd3-9240-8cb6e449eadf",
   "metadata": {},
   "outputs": [
    {
     "name": "stdin",
     "output_type": "stream",
     "text": [
      "Günlük hisse fiyatlarını giriniz(aralarında boşluk bırakarak):  7 1 5 3 6 4\n"
     ]
    },
    {
     "name": "stdout",
     "output_type": "stream",
     "text": [
      "Girdi: [7, 1, 5, 3, 6, 4]\n"
     ]
    },
    {
     "name": "stdin",
     "output_type": "stream",
     "text": [
      "Hisseyi aldığınız günü giriniz:  2\n",
      "Hisseyi sattığınız günü giriniz:  5\n"
     ]
    },
    {
     "name": "stdout",
     "output_type": "stream",
     "text": [
      "Kar: 5 TL\n"
     ]
    }
   ],
   "source": [
    "# Hisse Al-Sat\n",
    "def fiyat_dizisi():\n",
    "    while True:\n",
    "      try:\n",
    "        fiyatlar = list(map(int, input(\"Günlük hisse fiyatlarını giriniz(aralarında boşluk bırakarak): \").split())) \n",
    "\n",
    "        if not (1 <= len(fiyatlar) <= 20):\n",
    "          print(\"Lütfen eleman sayısı 1-20 arasında bir dizi giriniz.\")\n",
    "          continue\n",
    "        if any(i < 0 or i > 30 for i in fiyatlar):\n",
    "          print(\"Hisse fiyatları 0-30 arasında olmalı.\")\n",
    "          continue\n",
    "        return fiyatlar  \n",
    "          \n",
    "      except ValueError:\n",
    "        print(\"Lütfen geçerli sayılar giriniz.\")\n",
    "fiyatlar = fiyat_dizisi()\n",
    "print(\"Girdi:\", fiyatlar)\n",
    "\n",
    "def kar_hesaplama(fiyatlar):\n",
    "    alis_gunu = int(input(\"Hisseyi aldığınız günü giriniz: \"))\n",
    "    satis_gunu = int(input(\"Hisseyi sattığınız günü giriniz: \"))\n",
    "\n",
    "    if alis_gunu < 0 or satis_gunu < 0 or alis_gunu >= len(fiyatlar) or satis_gunu > len(fiyatlar):\n",
    "        return \"Geçersiz gün.\"\n",
    "    if satis_gunu <= alis_gunu:\n",
    "        return \"Satış günü, alış gününden sonra olmalıdır.\"\n",
    "\n",
    "    alis_fiyati = fiyatlar[alis_gunu-1]\n",
    "    satis_fiyati = fiyatlar[satis_gunu-1]\n",
    "    kar = satis_fiyati-alis_fiyati\n",
    "\n",
    "    if kar<=0:\n",
    "        return \"0\"\n",
    "    \n",
    "    return f\"Kar: {kar} TL\"\n",
    "print(kar_hesaplama(fiyatlar))"
   ]
  },
  {
   "cell_type": "code",
   "execution_count": 5,
   "id": "54e920e7-6082-48bd-bde3-ac5fa1ef9dc4",
   "metadata": {},
   "outputs": [
    {
     "name": "stdin",
     "output_type": "stream",
     "text": [
      "Bugün neler yaptınız?  Seramik boyama etkinliğine katıldım. Güzel geçti.\n",
      "Güne puanınız kaç?:  8\n"
     ]
    },
    {
     "name": "stdout",
     "output_type": "stream",
     "text": [
      "\n",
      "Günlük kaydınız güncellendi.\n"
     ]
    }
   ],
   "source": [
    "# Günlük Yazma\n",
    "from datetime import datetime\n",
    "\n",
    "def gunluk_yazma():\n",
    "    dosya_adi = \"gunluk.txt\"\n",
    "    \n",
    "    simdiki_zaman = datetime.now()\n",
    "    tarih = simdiki_zaman.strftime(\"%a %b %d %H:%M:%S %Y\")\n",
    "    girdi = input(\"Bugün neler yaptınız? \")\n",
    "    while True:\n",
    "        try:\n",
    "            gune_puan = int(input(\"Güne puanınız kaç?: \"))\n",
    "            if 0 <=gune_puan<= 10:\n",
    "                break\n",
    "            else:\n",
    "                print(\"Lütfen 0 ile 10 arasında bir sayı giriniz.\")\n",
    "        except ValueError:\n",
    "            print(\"Geçerli bir değer giriniz.\")\n",
    "\n",
    "    kayitlar = f\"\\nTarih: {tarih}\\n{girdi}\\nGüne puan: {gune_puan}\\n\" + \"*\"*40\n",
    "\n",
    "    with open(dosya_adi, \"a\", encoding=\"utf-8\") as dosya:\n",
    "        dosya.write(kayitlar)\n",
    "    print(\"\\nGünlük kaydınız güncellendi.\")\n",
    "\n",
    "gunluk_yazma()"
   ]
  },
  {
   "cell_type": "code",
   "execution_count": 7,
   "id": "8c979717-39a2-48f5-994b-a2cb8f2ab142",
   "metadata": {},
   "outputs": [
    {
     "name": "stdout",
     "output_type": "stream",
     "text": [
      "\n",
      "---- TO DO LİST ----\n",
      "1.Görev ekle\n",
      "2.Görevleri göster\n",
      "3.Görev sil\n",
      "4.Çıkış\n"
     ]
    },
    {
     "name": "stdin",
     "output_type": "stream",
     "text": [
      "Seçiminizi giriniz:  1\n",
      "Görev:  Market alışverişine çık.\n"
     ]
    },
    {
     "name": "stdout",
     "output_type": "stream",
     "text": [
      "\n",
      "---- TO DO LİST ----\n",
      "1.Görev ekle\n",
      "2.Görevleri göster\n",
      "3.Görev sil\n",
      "4.Çıkış\n"
     ]
    },
    {
     "name": "stdin",
     "output_type": "stream",
     "text": [
      "Seçiminizi giriniz:  2\n"
     ]
    },
    {
     "name": "stdout",
     "output_type": "stream",
     "text": [
      "\n",
      "Görev Listesi: \n",
      "1. Market alışverişine çık.\n",
      "\n",
      "---- TO DO LİST ----\n",
      "1.Görev ekle\n",
      "2.Görevleri göster\n",
      "3.Görev sil\n",
      "4.Çıkış\n"
     ]
    },
    {
     "name": "stdin",
     "output_type": "stream",
     "text": [
      "Seçiminizi giriniz:  3\n"
     ]
    },
    {
     "name": "stdout",
     "output_type": "stream",
     "text": [
      "\n",
      "Görev Listesi: \n",
      "1. Market alışverişine çık.\n"
     ]
    },
    {
     "name": "stdin",
     "output_type": "stream",
     "text": [
      "Silmek istediğiniz görev numarasını giriniz:  1\n"
     ]
    },
    {
     "name": "stdout",
     "output_type": "stream",
     "text": [
      "\n",
      "---- TO DO LİST ----\n",
      "1.Görev ekle\n",
      "2.Görevleri göster\n",
      "3.Görev sil\n",
      "4.Çıkış\n"
     ]
    },
    {
     "name": "stdin",
     "output_type": "stream",
     "text": [
      "Seçiminizi giriniz:  4\n"
     ]
    },
    {
     "name": "stdout",
     "output_type": "stream",
     "text": [
      "Programdan çıkılıyor...\n"
     ]
    }
   ],
   "source": [
    "#TO DO LİST \n",
    "tasks=[]\n",
    "def show_tasks():\n",
    "    if not tasks:\n",
    "        print(\"Henüz görev bulunmuyor.\")\n",
    "    else:\n",
    "        print(\"\\nGörev Listesi: \")\n",
    "        for i, task in enumerate(tasks, 1):\n",
    "            print(f\"{i}. {task}\")\n",
    "\n",
    "while True:\n",
    "    print(\"\\n---- TO DO LİST ----\")\n",
    "    print(\"1.Görev ekle\")\n",
    "    print(\"2.Görevleri göster\")\n",
    "    print(\"3.Görev sil\")\n",
    "    print(\"4.Çıkış\")\n",
    "    \n",
    "    choice=input(\"Seçiminizi giriniz: \")\n",
    "    \n",
    "    if choice==\"1\":\n",
    "        task=input(\"Görev: \")\n",
    "        tasks.append(task)\n",
    "    elif choice==\"2\":\n",
    "        show_tasks()\n",
    "    elif choice==\"3\":\n",
    "        show_tasks()\n",
    "        index = int(input(\"Silmek istediğiniz görev numarasını giriniz: \")) - 1\n",
    "        if 0 <= index < len(tasks):\n",
    "            tasks.pop(index)\n",
    "    elif choice==\"4\":\n",
    "        print(\"Programdan çıkılıyor...\")\n",
    "        break\n",
    "    else:\n",
    "        print(\"Geçersiz seçim!\")"
   ]
  },
  {
   "cell_type": "code",
   "execution_count": 9,
   "id": "bbc5f9a2-95e5-469b-8299-215a72188e76",
   "metadata": {},
   "outputs": [
    {
     "name": "stdout",
     "output_type": "stream",
     "text": [
      "Zorluk seviyesi seçin: 1-Kolay, 2-Orta, 3-Zor\n"
     ]
    },
    {
     "name": "stdin",
     "output_type": "stream",
     "text": [
      "Seçiminiz:  3\n"
     ]
    },
    {
     "name": "stdout",
     "output_type": "stream",
     "text": [
      "\n",
      "1-100 arasında bir sayı tuttum. 5 hakkınız var!\n"
     ]
    },
    {
     "name": "stdin",
     "output_type": "stream",
     "text": [
      "Tahmininizi giriniz:  50\n"
     ]
    },
    {
     "name": "stdout",
     "output_type": "stream",
     "text": [
      "Daha büyük sayı dene.\n"
     ]
    },
    {
     "name": "stdin",
     "output_type": "stream",
     "text": [
      "Tahmininizi giriniz:  60\n"
     ]
    },
    {
     "name": "stdout",
     "output_type": "stream",
     "text": [
      "Daha büyük sayı dene.\n"
     ]
    },
    {
     "name": "stdin",
     "output_type": "stream",
     "text": [
      "Tahmininizi giriniz:  70\n"
     ]
    },
    {
     "name": "stdout",
     "output_type": "stream",
     "text": [
      "Daha büyük sayı dene.\n"
     ]
    },
    {
     "name": "stdin",
     "output_type": "stream",
     "text": [
      "Tahmininizi giriniz:  80\n"
     ]
    },
    {
     "name": "stdout",
     "output_type": "stream",
     "text": [
      "Daha büyük sayı dene.\n"
     ]
    },
    {
     "name": "stdin",
     "output_type": "stream",
     "text": [
      "Tahmininizi giriniz:  92\n"
     ]
    },
    {
     "name": "stdout",
     "output_type": "stream",
     "text": [
      "Daha küçük sayı dene.\n",
      "Maalesef hakkınız bitti. Sayı: 87\n"
     ]
    },
    {
     "name": "stdin",
     "output_type": "stream",
     "text": [
      "Tekrar oynamak ister misiniz?(e/h):  h\n"
     ]
    }
   ],
   "source": [
    "#Sayı Tahmin Etme Oyunu \n",
    "import random\n",
    "\n",
    "def guess_game():\n",
    "    levels = {\"1\": 15, \"2\": 10, \"3\": 5}\n",
    "    print(\"Zorluk seviyesi seçin: 1-Kolay, 2-Orta, 3-Zor\")\n",
    "    level=input(\"Seçiminiz: \")\n",
    "    attempts = levels.get(level, 10)\n",
    "    \n",
    "    number=random.randint(1, 100)\n",
    "    print(f\"\\n1-100 arasında bir sayı tuttum. {attempts} hakkınız var!\")\n",
    "\n",
    "    for i in range(attempts):\n",
    "        guess=int(input(\"Tahmininizi giriniz: \"))\n",
    "        if guess < number:\n",
    "            print(\"Daha büyük sayı dene.\")\n",
    "        elif guess > number:\n",
    "            print(\"Daha küçük sayı dene.\")\n",
    "        else:\n",
    "            print(f\"Tebrikler! {i+1}. denemede doğru bildiniz.\")\n",
    "            break\n",
    "    else:\n",
    "        print(f\"Maalesef hakkınız bitti. Sayı: {number}\")\n",
    "\n",
    "while True:\n",
    "    guess_game()\n",
    "    if input(\"Tekrar oynamak ister misiniz?(e/h): \").lower()!= 'e':\n",
    "        break"
   ]
  }
 ],
 "metadata": {
  "kernelspec": {
   "display_name": "Python [conda env:base] *",
   "language": "python",
   "name": "conda-base-py"
  },
  "language_info": {
   "codemirror_mode": {
    "name": "ipython",
    "version": 3
   },
   "file_extension": ".py",
   "mimetype": "text/x-python",
   "name": "python",
   "nbconvert_exporter": "python",
   "pygments_lexer": "ipython3",
   "version": "3.12.7"
  }
 },
 "nbformat": 4,
 "nbformat_minor": 5
}
