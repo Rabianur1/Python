{
 "cells": [
  {
   "cell_type": "code",
   "execution_count": 5,
   "id": "ffff2e9c-625b-4760-acb3-bf8e501661aa",
   "metadata": {},
   "outputs": [
    {
     "name": "stdin",
     "output_type": "stream",
     "text": [
      "Saat giriniz:  12\n",
      "Dakika giriniz:  30\n"
     ]
    },
    {
     "name": "stdout",
     "output_type": "stream",
     "text": [
      "Arada kalan küçük açı 165.0 derecedir.\n"
     ]
    }
   ],
   "source": [
    "# Akrep-Yelkovan (Saat-Dakika) arasındaki küçük açıyı hesaplama\n",
    "def kucuk_aci_hesaplama(saat, dakika):\n",
    "  try:\n",
    "    saat=int(saat)\n",
    "    dakika=int(dakika)\n",
    "    if saat < 0 or saat > 12 or dakika < 0 or dakika > 59:\n",
    "       print(\"Geçersiz saat veya dakika değeri girdiniz.\")\n",
    "       return\n",
    "    \n",
    "    saat_acisi=(saat%12)*30+(dakika/60)*30\n",
    "    dakika_acisi=dakika*6\n",
    "    aci=abs(saat_acisi - dakika_acisi)\n",
    "    kucuk_aci=min(aci, 360-aci)\n",
    "    return kucuk_aci\n",
    "\n",
    "  except ValueError:\n",
    "   print(\"Lütfen saat ve dakika değerlerini sayısal olarak giriniz.\")\n",
    "   return\n",
    "    \n",
    "saat=input(\"Saat giriniz: \")\n",
    "dakika=input(\"Dakika giriniz: \")\n",
    "aci=kucuk_aci_hesaplama(saat, dakika)\n",
    "if aci is not None:\n",
    " print(\"Arada kalan küçük açı\",aci,\"derecedir.\")"
   ]
  },
  {
   "cell_type": "code",
   "execution_count": 3,
   "id": "cd9b65f1-ef08-4f90-bc80-919b078c769e",
   "metadata": {},
   "outputs": [
    {
     "name": "stdin",
     "output_type": "stream",
     "text": [
      "Günlük hisse fiyatlarını giriniz(aralarında boşluk bırakarak):  7 1 5 3 6 4\n"
     ]
    },
    {
     "name": "stdout",
     "output_type": "stream",
     "text": [
      "Girdi: [7, 1, 5, 3, 6, 4]\n"
     ]
    },
    {
     "name": "stdin",
     "output_type": "stream",
     "text": [
      "Hisseyi aldığınız günü giriniz:  2\n",
      "Hisseyi sattığınız günü giriniz:  5\n"
     ]
    },
    {
     "name": "stdout",
     "output_type": "stream",
     "text": [
      "Kar: 5 TL\n"
     ]
    }
   ],
   "source": [
    "# Hisse Al-Sat\n",
    "def fiyat_dizisi():\n",
    "    while True:\n",
    "      try:\n",
    "        fiyatlar = list(map(int, input(\"Günlük hisse fiyatlarını giriniz(aralarında boşluk bırakarak): \").split())) \n",
    "\n",
    "        if not (1 <= len(fiyatlar) <= 20):\n",
    "          print(\"Lütfen eleman sayısı 1-20 arasında bir dizi giriniz.\")\n",
    "          continue\n",
    "        if any(i < 0 or i > 30 for i in fiyatlar):\n",
    "          print(\"Hisse fiyatları 0-30 arasında olmalı.\")\n",
    "          continue\n",
    "        return fiyatlar  \n",
    "          \n",
    "      except ValueError:\n",
    "        print(\"Lütfen geçerli sayılar giriniz.\")\n",
    "fiyatlar = fiyat_dizisi()\n",
    "print(\"Girdi:\", fiyatlar)\n",
    "\n",
    "def kar_hesaplama(fiyatlar):\n",
    "    alis_gunu = int(input(\"Hisseyi aldığınız günü giriniz: \"))\n",
    "    satis_gunu = int(input(\"Hisseyi sattığınız günü giriniz: \"))\n",
    "\n",
    "    if alis_gunu < 0 or satis_gunu < 0 or alis_gunu >= len(fiyatlar) or satis_gunu > len(fiyatlar):\n",
    "        return \"Geçersiz gün.\"\n",
    "    if satis_gunu <= alis_gunu:\n",
    "        return \"Satış günü, alış gününden sonra olmalıdır.\"\n",
    "\n",
    "    alis_fiyati = fiyatlar[alis_gunu-1]\n",
    "    satis_fiyati = fiyatlar[satis_gunu-1]\n",
    "    kar = satis_fiyati-alis_fiyati\n",
    "\n",
    "    if kar<=0:\n",
    "        return \"0\"\n",
    "    \n",
    "    return f\"Kar: {kar} TL\"\n",
    "print(kar_hesaplama(fiyatlar))"
   ]
  },
  {
   "cell_type": "code",
   "execution_count": 7,
   "id": "c7dddbea-36e2-4c7a-a0b0-fe4f48afad75",
   "metadata": {},
   "outputs": [
    {
     "name": "stdin",
     "output_type": "stream",
     "text": [
      "Bugün neler yaptınız?  Seramik boyama etkinliğine katıldım. Güzel geçti.\n",
      "Güne puanınız kaç?:  8\n"
     ]
    },
    {
     "name": "stdout",
     "output_type": "stream",
     "text": [
      "\n",
      "Günlük kaydınız güncellendi.\n"
     ]
    }
   ],
   "source": [
    "# Günlük Yazma\n",
    "from datetime import datetime\n",
    "\n",
    "def gunluk_yazma():\n",
    "    dosya_adi = \"gunluk.txt\"\n",
    "    \n",
    "    simdiki_zaman = datetime.now()\n",
    "    tarih = simdiki_zaman.strftime(\"%a %b %d %H:%M:%S %Y\")\n",
    "    girdi = input(\"Bugün neler yaptınız? \")\n",
    "    while True:\n",
    "        try:\n",
    "            gune_puan = int(input(\"Güne puanınız kaç?: \"))\n",
    "            if 0 <=gune_puan<= 10:\n",
    "                break\n",
    "            else:\n",
    "                print(\"Lütfen 0 ile 10 arasında bir sayı giriniz.\")\n",
    "        except ValueError:\n",
    "            print(\"Geçerli bir değer giriniz.\")\n",
    "\n",
    "    kayitlar = f\"\\nTarih: {tarih}\\n{girdi}\\nGüne puan: {gune_puan}\\n\" + \"*\"*40\n",
    "\n",
    "    with open(dosya_adi, \"a\", encoding=\"utf-8\") as dosya:\n",
    "        dosya.write(kayitlar)\n",
    "    print(\"\\nGünlük kaydınız güncellendi.\")\n",
    "\n",
    "gunluk_yazma()"
   ]
  },
  {
   "cell_type": "code",
   "execution_count": 9,
   "id": "8ba91c74-9db6-4de4-9a57-770bf94a48eb",
   "metadata": {},
   "outputs": [
    {
     "name": "stdout",
     "output_type": "stream",
     "text": [
      "Harry Potter kitap isimleri:\n",
      "Harry Potter\n",
      "Harry Potter\n",
      "Harry Potter ve Felsefe Taşı\n",
      "The Ultimate Harry Potter and Philosophy\n",
      "Teaching with Harry Potter\n",
      "Harry Potter and the Other\n",
      "The Harry Potter Generation\n",
      "Inside the World of Harry Potter\n",
      "The Ivory Tower and Harry Potter\n",
      "Critical Perspectives on Harry Potter\n"
     ]
    }
   ],
   "source": [
    "# Google books API'ına GET atarak Harry Potter kitap isimlerini alma\n",
    "import requests\n",
    "\n",
    "def get_harry_potter_books():\n",
    "    url = \"https://www.googleapis.com/books/v1/volumes?q=Harry+Potter\"\n",
    "    response = requests.get(url)\n",
    "\n",
    "    if response.status_code == 200:\n",
    "        books = response.json()\n",
    "        book_names = []\n",
    "\n",
    "        for item in books.get(\"items\", []):\n",
    "            title = item.get(\"volumeInfo\", {}).get(\"title\")\n",
    "            if title:\n",
    "                book_names.append(title)\n",
    "\n",
    "        print(\"Harry Potter kitap isimleri:\")\n",
    "        for title in book_names:\n",
    "            print(title)\n",
    "    else:\n",
    "        print(f'Error: API request failed with status code {response.status_code}')\n",
    "\n",
    "get_harry_potter_books()"
   ]
  },
  {
   "cell_type": "code",
   "execution_count": null,
   "id": "2bc19995-63dc-4ffd-bce4-9cc259ae82cf",
   "metadata": {},
   "outputs": [],
   "source": [
    "# Resimdeki Kırmızı Alan Tespiti\n",
    "import cv2\n",
    "import numpy as np\n",
    "\n",
    "image = cv2.imread(\"resim.jpg\")\n",
    "\n",
    "lower_kirmizi = np.array([0, 0, 100])\n",
    "upper_kirmizi = np.array([50, 50, 255])\n",
    "mask = cv2.inRange(image, lower_kirmizi, upper_kirmizi)\n",
    "\n",
    "kirmizi_alan = cv2.bitwise_and(image, image, mask=mask)\n",
    "\n",
    "cv2.imshow(\"Orijinal:\", image)\n",
    "cv2.imshow(\"Tespit edilen hedef:\", kirmizi_alan)\n",
    "cv2.waitKey(0)\n",
    "cv2.destroyAllWindows()"
   ]
  },
  {
   "cell_type": "code",
   "execution_count": null,
   "id": "8e0fde66-23e2-4087-99d5-b458b8ad02fd",
   "metadata": {},
   "outputs": [],
   "source": [
    "# Kameradaki Kırmızı Alan Tespiti\n",
    "import cv2\n",
    "import numpy as np\n",
    "\n",
    "kamera=cv2.VideoCapture(0)\n",
    "while True:\n",
    "    ret,goruntu=kamera.read()\n",
    "  \n",
    "    lower_kirmizi= np.array([0, 0, 100]) \n",
    "    upper_kirmizi= np.array([50, 50, 255]) \n",
    "    mask= cv2.inRange(goruntu, lower_kirmizi, upper_kirmizi)\n",
    "\n",
    "    kirmizi_alan= cv2.bitwise_and(goruntu, goruntu, mask=mask)\n",
    "\n",
    "    cv2.imshow(\"BGR goruntusu:\", goruntu)\n",
    "    cv2.imshow(\"Tespit edilen hedef:\", kirmizi_alan)\n",
    "\n",
    "    if cv2.waitKey(25) &0xFF==ord(\"q\"):\n",
    "        break\n",
    "kamera.release()\n",
    "cv2.destroyAllWindows"
   ]
  }
 ],
 "metadata": {
  "kernelspec": {
   "display_name": "Python [conda env:base] *",
   "language": "python",
   "name": "conda-base-py"
  },
  "language_info": {
   "codemirror_mode": {
    "name": "ipython",
    "version": 3
   },
   "file_extension": ".py",
   "mimetype": "text/x-python",
   "name": "python",
   "nbconvert_exporter": "python",
   "pygments_lexer": "ipython3",
   "version": "3.12.7"
  }
 },
 "nbformat": 4,
 "nbformat_minor": 5
}
